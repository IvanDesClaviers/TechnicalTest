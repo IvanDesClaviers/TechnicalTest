{
 "cells": [
  {
   "cell_type": "code",
   "execution_count": 212,
   "id": "d8022cc4-afc8-4f20-a4fd-fb3fb927c71e",
   "metadata": {},
   "outputs": [
    {
     "data": {
      "text/plain": [
       "('pace-data.txt', <http.client.HTTPMessage at 0x7f4cb96aa590>)"
      ]
     },
     "execution_count": 212,
     "metadata": {},
     "output_type": "execute_result"
    }
   ],
   "source": [
    "# Download file\n",
    "import urllib.request\n",
    "urllib.request.urlretrieve(\"https://data-engineer-technical-challenge.s3.ap-southeast-2.amazonaws.com/pace-data.txt\", \"pace-data.txt\")"
   ]
  },
  {
   "cell_type": "code",
   "execution_count": 213,
   "id": "61c63a89-6207-481a-a36f-6e51e82f04db",
   "metadata": {},
   "outputs": [],
   "source": [
    "# 2. Write a script or notebook to perform the following operations on the data "
   ]
  },
  {
   "cell_type": "code",
   "execution_count": 214,
   "id": "d4f3ce30-eec9-4b84-8517-286a15cd6fd5",
   "metadata": {},
   "outputs": [
    {
     "name": "stdout",
     "output_type": "stream",
     "text": [
      "      MovementDateTime Destination       DestinationTidied  Speed  \\\n",
      "0  2019-07-20 00:00:00    PATIMBAN                     NaN    9.8   \n",
      "1  2019-07-20 00:00:00      LA PAZ                  La Paz    0.0   \n",
      "2  2019-07-20 00:00:00       GTPRQ          Puerto Quetzal   13.3   \n",
      "3  2019-07-20 00:00:00      RU LED  St Petersburg Ugolnaya    0.0   \n",
      "4  2019-07-20 00:00:00      KAMSAR             Port Kamsar   13.6   \n",
      "\n",
      "  AdditionalInfo CallSign  Heading       MMSI        MovementID  \\\n",
      "0            NaN     YDLR     90.0  525019348  4780574056319002   \n",
      "1            NaN    XCAR8    163.0  345060069  4681115056319002   \n",
      "2            NaN  V7A2042    118.0  538008172  4984813056319002   \n",
      "3            NaN    D5SQ4    321.0  636019034  4977443056319002   \n",
      "4            NaN    3FBS5    216.0  372798000  4978315056319002   \n",
      "\n",
      "           ShipName ShipType  Beam  Draught  Length                      ETA  \\\n",
      "0         MV SENANG    Cargo    16      6.8     117  2019-07-20 16:00:00.000   \n",
      "1           SAKIS P    Cargo    13      5.1      82  2019-07-18 18:30:00.000   \n",
      "2      YASA JUPITER    Cargo    32     10.7     199  2019-07-21 10:00:00.000   \n",
      "3    MEDI ADRIATICO    Cargo    32      6.4     200  2019-07-18 03:00:00.000   \n",
      "4  SAKIZAYA RESPECT    Cargo    32      6.8     229  2019-07-24 15:00:00.000   \n",
      "\n",
      "               MoveStatus ladenStatus  LRIMOShipNo   Latitude   Longitude  \n",
      "0  Under way using engine     Ballast      7805746  -5.732933  107.444069  \n",
      "1                  Moored     Ballast      6811152  24.264002 -110.331352  \n",
      "2  Under way using engine     Ballast      9848132  15.103770  -97.482719  \n",
      "3                Anchored     Ballast      9774434  60.105572   29.347267  \n",
      "4  Under way using engine     Ballast      9783150  29.713890  -12.162312  \n"
     ]
    }
   ],
   "source": [
    "# a) Extract the data from the CSV\n",
    "import pandas as pd\n",
    "\n",
    "df = pd.read_csv(\"pace-data.txt\")\n",
    "print(df.head())"
   ]
  },
  {
   "cell_type": "code",
   "execution_count": 215,
   "id": "3ac3e147-9414-4bb9-9a63-f50ec66f3fbd",
   "metadata": {},
   "outputs": [
    {
     "name": "stdout",
     "output_type": "stream",
     "text": [
      "0    2019-07-20 00:00:00\n",
      "1    2019-07-20 00:00:00\n",
      "2    2019-07-20 00:00:00\n",
      "3    2019-07-20 00:00:00\n",
      "4    2019-07-20 00:00:00\n",
      "Name: MovementDateTime, dtype: object\n",
      "0    2019-07-20T00:00:00\n",
      "1    2019-07-20T00:00:00\n",
      "2    2019-07-20T00:00:00\n",
      "3    2019-07-20T00:00:00\n",
      "4    2019-07-20T00:00:00\n",
      "Name: MovementDateTime, dtype: object\n"
     ]
    }
   ],
   "source": [
    "# b) Normalize MovementDateTime to ISO format \n",
    "import datetime\n",
    "\n",
    "print(df['MovementDateTime'].head())\n",
    "\n",
    "df['MovementDateTime'] = df['MovementDateTime'].map(lambda x: datetime.datetime.fromisoformat(x).isoformat())\n",
    "print(df['MovementDateTime'].head())"
   ]
  },
  {
   "cell_type": "code",
   "execution_count": 216,
   "id": "ec81eb09-61d8-443a-881b-b9147030355d",
   "metadata": {},
   "outputs": [
    {
     "name": "stdout",
     "output_type": "stream",
     "text": [
      "CallSign\n",
      "0           4.084416\n",
      "0000        0.904167\n",
      "000000      4.580000\n",
      "0000000     3.376471\n",
      "00601      11.600000\n",
      "Name: Speed, dtype: float64\n",
      "        MovementDateTime   Destination DestinationTidied  Speed  \\\n",
      "105  2019-07-20T00:03:00  BENGKULU_IND               NaN    0.0   \n",
      "124  2019-07-20T00:04:00      TG.PRIOK     Tanjung Priok    0.0   \n",
      "131  2019-07-20T00:04:00   SGSIN.PEBGC         Singapore    0.0   \n",
      "423  2019-07-20T00:14:00        HCM VN       Saigon East    0.0   \n",
      "531  2019-07-20T00:18:00      IMBITUBA          Imbituba    0.0   \n",
      "\n",
      "    AdditionalInfo CallSign  Heading       MMSI        MovementID  \\\n",
      "105            NaN    DSQZ4    162.0  441763000  4948924056319002   \n",
      "124            NaN     JZIG     75.0  525019643  4739702056319002   \n",
      "131            NaN    DSRK3     89.0  441889000  4914980056319002   \n",
      "423            NaN    3WCV9      0.0  574001010  4959979056318551   \n",
      "531            NaN    V7NM2    331.0  538006478  4975409056319002   \n",
      "\n",
      "               ShipName ShipType  Beam  Draught  Length  \\\n",
      "105            CH DORIS    Cargo    28      6.2     177   \n",
      "124             MV GIAT    Cargo    16      5.0     118   \n",
      "131        SINOMERCHANT    Cargo    58      6.1     332   \n",
      "423         LONG TAN 99      NaN    15      7.2      91   \n",
      "531  INTERLINK AUDACITY    Cargo    30      9.6     180   \n",
      "\n",
      "                         ETA              MoveStatus ladenStatus  LRIMOShipNo  \\\n",
      "105  2019-07-03 13:00:00.000  Under way using engine     Ballast      9489247   \n",
      "124  2019-07-20 06:00:00.000  Under way using engine     Ballast      7397024   \n",
      "131  2019-07-18 07:00:00.000  Under way using engine     Ballast      9149809   \n",
      "423  2019-12-08 15:00:00.000  Under way using engine     Ballast      9599793   \n",
      "531  2019-07-17 02:45:00.000  Under way using engine     Ballast      9754094   \n",
      "\n",
      "      Latitude   Longitude  \n",
      "105  -4.838583  103.397552  \n",
      "124  -6.039500  106.900169  \n",
      "131   1.251810  103.609467  \n",
      "423  10.586783  107.028656  \n",
      "531 -28.226669  -48.651669  \n",
      "        MovementDateTime   Destination DestinationTidied     Speed  \\\n",
      "105  2019-07-20T00:03:00  BENGKULU_IND               NaN  0.029167   \n",
      "124  2019-07-20T00:04:00      TG.PRIOK     Tanjung Priok  0.029167   \n",
      "131  2019-07-20T00:04:00   SGSIN.PEBGC         Singapore  0.029167   \n",
      "423  2019-07-20T00:14:00        HCM VN       Saigon East  0.029167   \n",
      "531  2019-07-20T00:18:00      IMBITUBA          Imbituba  0.029167   \n",
      "\n",
      "    AdditionalInfo CallSign  Heading       MMSI        MovementID  \\\n",
      "105            NaN    DSQZ4    162.0  441763000  4948924056319002   \n",
      "124            NaN     JZIG     75.0  525019643  4739702056319002   \n",
      "131            NaN    DSRK3     89.0  441889000  4914980056319002   \n",
      "423            NaN    3WCV9      0.0  574001010  4959979056318551   \n",
      "531            NaN    V7NM2    331.0  538006478  4975409056319002   \n",
      "\n",
      "               ShipName ShipType  Beam  Draught  Length  \\\n",
      "105            CH DORIS    Cargo    28      6.2     177   \n",
      "124             MV GIAT    Cargo    16      5.0     118   \n",
      "131        SINOMERCHANT    Cargo    58      6.1     332   \n",
      "423         LONG TAN 99      NaN    15      7.2      91   \n",
      "531  INTERLINK AUDACITY    Cargo    30      9.6     180   \n",
      "\n",
      "                         ETA              MoveStatus ladenStatus  LRIMOShipNo  \\\n",
      "105  2019-07-03 13:00:00.000  Under way using engine     Ballast      9489247   \n",
      "124  2019-07-20 06:00:00.000  Under way using engine     Ballast      7397024   \n",
      "131  2019-07-18 07:00:00.000  Under way using engine     Ballast      9149809   \n",
      "423  2019-12-08 15:00:00.000  Under way using engine     Ballast      9599793   \n",
      "531  2019-07-17 02:45:00.000  Under way using engine     Ballast      9754094   \n",
      "\n",
      "      Latitude   Longitude  \n",
      "105  -4.838583  103.397552  \n",
      "124  -6.039500  106.900169  \n",
      "131   1.251810  103.609467  \n",
      "423  10.586783  107.028656  \n",
      "531 -28.226669  -48.651669  \n",
      "\n",
      " ORIGINAL VALUE\n",
      "\n",
      "        MovementDateTime   Destination DestinationTidied  Speed  \\\n",
      "105  2019-07-20T00:03:00  BENGKULU_IND               NaN    0.0   \n",
      "\n",
      "    AdditionalInfo CallSign  Heading       MMSI        MovementID  ShipName  \\\n",
      "105            NaN    DSQZ4    162.0  441763000  4948924056319002  CH DORIS   \n",
      "\n",
      "    ShipType  Beam  Draught  Length                      ETA  \\\n",
      "105    Cargo    28      6.2     177  2019-07-03 13:00:00.000   \n",
      "\n",
      "                 MoveStatus ladenStatus  LRIMOShipNo  Latitude   Longitude  \n",
      "105  Under way using engine     Ballast      9489247 -4.838583  103.397552  \n",
      "\n",
      "UPDATED VALUE\n",
      "\n",
      "        MovementDateTime   Destination DestinationTidied     Speed  \\\n",
      "105  2019-07-20T00:03:00  BENGKULU_IND               NaN  0.029167   \n",
      "\n",
      "    AdditionalInfo CallSign  Heading         MMSI    MovementID  ShipName  \\\n",
      "105            NaN    DSQZ4    162.0  441763000.0  4.948924e+15  CH DORIS   \n",
      "\n",
      "    ShipType  Beam  Draught  Length                      ETA  \\\n",
      "105    Cargo  28.0      6.2   177.0  2019-07-03 13:00:00.000   \n",
      "\n",
      "                 MoveStatus ladenStatus  LRIMOShipNo  Latitude   Longitude  \n",
      "105  Under way using engine     Ballast    9489247.0 -4.838583  103.397552  \n"
     ]
    }
   ],
   "source": [
    "# c) For each ship grouped by CallSign, if the MoveStatus is “Under way using engine”,\n",
    "# fill in any missing or zero speeds with the average of all speeds for that CallSign \n",
    "\n",
    "pd.options.mode.chained_assignment = None  # default='warn'\n",
    "\n",
    "### Mean value ###\n",
    "CallSign_mean_value = df.groupby('CallSign').mean(numeric_only=True)\n",
    "CallSign_mean_speed_value = CallSign_mean_value[\"Speed\"]\n",
    "print(CallSign_mean_speed_value.head())\n",
    "\n",
    "### Fetch broken values ###\n",
    "df_weird_vals = df[(df[\"MoveStatus\"] == \"Under way using engine\") &\n",
    "                    (df[\"Speed\"] == 0 | df[\"Speed\"].isnull()) ]\n",
    "print(df_weird_vals.head())\n",
    "\n",
    "### Fetch broken values ###\n",
    "for index, row in df_weird_vals.iterrows():\n",
    "    df_weird_vals[\"Speed\"] = CallSign_mean_speed_value[row[\"CallSign\"]]\n",
    "\n",
    "# 105 value is 'broken\n",
    "print(df_weird_vals.head())\n",
    "print(\"\\n ORIGINAL VALUE\\n\")\n",
    "print(df.iloc[[105]])\n",
    "\n",
    "### Update our dataframe ###\n",
    "df.update(df_weird_vals)\n",
    "\n",
    "print(\"\\nUPDATED VALUE\\n\")\n",
    "print(df.iloc[[105]])"
   ]
  },
  {
   "cell_type": "code",
   "execution_count": 217,
   "id": "e89e66e0-dea7-452d-97ff-254be0e6891f",
   "metadata": {},
   "outputs": [
    {
     "name": "stdout",
     "output_type": "stream",
     "text": [
      "0    0.136752\n",
      "1    0.158537\n",
      "2    0.160804\n",
      "3    0.160000\n",
      "4    0.139738\n",
      "Name: BeamRatio, dtype: float64\n"
     ]
    }
   ],
   "source": [
    "# d) Create a new feature called BeamRatio calculated as Beam / Length (Beam divided by Length)\n",
    "\n",
    "df[\"BeamRatio\"] = df[\"Beam\"]/ df[\"Length\"]\n",
    "print(df[\"BeamRatio\"].head())"
   ]
  },
  {
   "cell_type": "code",
   "execution_count": 218,
   "id": "50fbc417-1322-4c1a-ad41-1c8e932b7cff",
   "metadata": {},
   "outputs": [
    {
     "name": "stdout",
     "output_type": "stream",
     "text": [
      "           MovementDateTime     Destination       DestinationTidied  Speed  \\\n",
      "0       2019-07-20T00:00:00        PATIMBAN                     NaN    9.8   \n",
      "1       2019-07-20T00:00:00          LA PAZ                  La Paz    0.0   \n",
      "2       2019-07-20T00:00:00           GTPRQ          Puerto Quetzal   13.3   \n",
      "3       2019-07-20T00:00:00          RU LED  St Petersburg Ugolnaya    0.0   \n",
      "4       2019-07-20T00:00:00          KAMSAR             Port Kamsar   13.6   \n",
      "...                     ...             ...                     ...    ...   \n",
      "174053  2019-07-20T23:59:00   VISAKHAPATNAM           Visakhapatnam    9.6   \n",
      "174054  2019-07-20T23:59:00  CN TAPAN CHINA                     NaN    9.0   \n",
      "174055  2019-07-20T23:59:00          KR PUS                   Busan   12.9   \n",
      "174056  2019-07-20T23:59:00         NORFOLK                 Norfolk    0.0   \n",
      "174057  2019-07-20T23:59:00          AU GLT               Gladstone   10.7   \n",
      "\n",
      "       AdditionalInfo CallSign     Heading         MMSI    MovementID  \\\n",
      "0                 NaN     YDLR   90.000000  525019348.0  4.780574e+15   \n",
      "1                 NaN    XCAR8  163.000000  345060069.0  4.681115e+15   \n",
      "2                 NaN  V7A2042  118.000000  538008172.0  4.984813e+15   \n",
      "3                 NaN    D5SQ4  321.000000  636019034.0  4.977443e+15   \n",
      "4                 NaN    3FBS5  216.000000  372798000.0  4.978315e+15   \n",
      "...               ...      ...         ...          ...           ...   \n",
      "174053            NaN    VRQO5   53.000000  477333200.0  4.975242e+15   \n",
      "174054            NaN    D5KU7  350.000000  636017413.0  4.974789e+15   \n",
      "174055            NaN     7JWB  206.000000  431287000.0  4.974802e+15   \n",
      "174056            NaN    V7OI7  116.699997  538006906.0  4.974991e+15   \n",
      "174057            NaN  V7A2149  127.000000  538008255.0  4.974986e+15   \n",
      "\n",
      "                ShipName  ...  Beam    Draught  Length  \\\n",
      "0              MV SENANG  ...  16.0   6.800000   117.0   \n",
      "1                SAKIS P  ...  13.0   5.100000    82.0   \n",
      "2           YASA JUPITER  ...  32.0  10.700000   199.0   \n",
      "3         MEDI ADRIATICO  ...  32.0   6.400000   200.0   \n",
      "4       SAKIZAYA RESPECT  ...  32.0   6.800000   229.0   \n",
      "...                  ...  ...   ...        ...     ...   \n",
      "174053        DARYA SATI  ...  32.0  11.900000   200.0   \n",
      "174054      TRUE PATRIOT  ...  45.0  18.200001   292.0   \n",
      "174055        TOHOKUMARU  ...  38.0   8.400000   230.0   \n",
      "174056             CHLOE  ...  33.0   8.200000   229.0   \n",
      "174057            DELFIN  ...  33.0   9.100000   229.0   \n",
      "\n",
      "                            ETA              MoveStatus ladenStatus  \\\n",
      "0       2019-07-20 16:00:00.000  Under way using engine     Ballast   \n",
      "1       2019-07-18 18:30:00.000                  Moored     Ballast   \n",
      "2       2019-07-21 10:00:00.000  Under way using engine     Ballast   \n",
      "3       2019-07-18 03:00:00.000                Anchored     Ballast   \n",
      "4       2019-07-24 15:00:00.000  Under way using engine     Ballast   \n",
      "...                         ...                     ...         ...   \n",
      "174053  2019-07-30 22:30:00.000  Under way using engine     Ballast   \n",
      "174054  2019-07-18 14:00:00.000  Under way using engine     Ballast   \n",
      "174055  2019-07-22 10:00:00.000  Under way using engine     Ballast   \n",
      "174056  2019-07-18 01:00:00.000                Anchored     Ballast   \n",
      "174057  2019-07-25 02:00:00.000  Under way using engine     Ballast   \n",
      "\n",
      "       LRIMOShipNo   Latitude   Longitude  BeamRatio  \n",
      "0        7805746.0  -5.732933  107.444069   0.136752  \n",
      "1        6811152.0  24.264002 -110.331352   0.158537  \n",
      "2        9848132.0  15.103770  -97.482719   0.160804  \n",
      "3        9774434.0  60.105572   29.347267   0.160000  \n",
      "4        9783150.0  29.713890  -12.162312   0.139738  \n",
      "...            ...        ...         ...        ...  \n",
      "174053   9752424.0 -16.734249   60.068554   0.160000  \n",
      "174054   9747895.0  38.954613  119.223076   0.154110  \n",
      "174055   9748021.0  37.412926  136.370850   0.165217  \n",
      "174056   9749910.0  37.219616  -76.125488   0.144105  \n",
      "174057   9749867.0  -7.352580  149.848038   0.144105  \n",
      "\n",
      "[174058 rows x 21 columns]\n"
     ]
    }
   ],
   "source": [
    "# e) Save all the existing features and newly calculated features in \n",
    "# steps b, c & d as a new csv file  (enriched.csv) on your local machine. \n",
    "\n",
    "print(df)\n",
    "df.to_csv(\"enriched.csv\", index=False)"
   ]
  },
  {
   "cell_type": "code",
   "execution_count": 219,
   "id": "39b21baf-c7f4-460f-ac50-5d395e1dddc9",
   "metadata": {},
   "outputs": [],
   "source": [
    "# f) Use the data file enriched.csv and store it in a Postgres or MySQL table\n",
    "# on your local machine (NOTE: You are expected to write python code to \n",
    "# programmatically insert the data into the database) \n",
    "\n",
    "# g) Provide a screen shot of the data inserted into the table \n",
    "\n",
    "# Wrap all your code & enriched.csv  into a private repo on Github and add  khordoo-m and cr3 as collaborators"
   ]
  },
  {
   "cell_type": "code",
   "execution_count": 220,
   "id": "6f8ac977-a63c-4088-9aa1-c6c0939cd417",
   "metadata": {},
   "outputs": [
    {
     "name": "stdout",
     "output_type": "stream",
     "text": [
      "5. Write a script (bash preferred) that uploads the pace-data.csv file into an S3 bucket (bonus points for creating the bucket through the CLI). If you don’t want to write a script, write down the commands you use to create the bucket and upload the file.\n",
      "\n",
      "2025-04-07 18:47:29 automatically-created-bucket-ivanalt-mila\n",
      "2025-03-31 19:55:34 main-6-bucket-allan\n",
      "2025-04-01 20:05:28 sagemaker-build-and-deploy-youtube-example\n",
      "2025-04-01 19:07:12 sagemaker-studio-211160189791-ylb8w879akd\n",
      "2025-04-01 19:07:15 sagemaker-us-east-2-211160189791\n",
      "\n",
      "make_bucket failed: s3://automatically-created-bucket-ivanalt-mila An error occurred (BucketAlreadyOwnedByYou) when calling the CreateBucket operation: Your previous request to create the named bucket succeeded and you already own it.\n",
      "pace-data.csv must be on the same location to this script to work\n",
      "\n",
      "upload: ./pace-data.txt to s3://automatically-created-bucket-ivanalt-mila/pace-data.txt\n"
     ]
    }
   ],
   "source": [
    "# 5. Write a script (bash preferred) that uploads the pace-data.csv file into an S3 bucket (bonus \n",
    "# points for creating the bucket through the CLI). If you don’t want to write a script, write \n",
    "# down the commands you use to create the bucket and upload the file.\n",
    "\n",
    "# IMPORTANT NOTE: The IAM role using the notebook must have the appropriate \n",
    "# authorizations. S3BucketAllAccess should be enough.\n",
    "\n",
    "# IMPORTANT NOTE: This works when ran on AWS jupyter notebook. \n",
    "# To work im batch or command line, s3cmd must be used instead\n",
    "\n",
    "filename=\"pace-data.txt\"\n",
    "bucket_to_upload_name = \"automatically-created-bucket-ivanalt-mila\"\n",
    "!echo \"5. Write a script (bash preferred) that uploads the pace-data.csv file into an S3 bucket (bonus points for creating the bucket through the CLI). If you don’t want to write a script, write down the commands you use to create the bucket and upload the file.\"\n",
    "!echo \"\"\n",
    "\n",
    "!aws s3 ls\n",
    "!echo \"\"\n",
    "\n",
    "\n",
    "# TODO: GRANT PERMISSIONS ?\n",
    "!aws s3 mb s3://$bucket_to_upload_name\n",
    "\n",
    "!echo \"pace-data.csv must be on the same location to this script to work\"\n",
    "!echo \"\"\n",
    "\n",
    "# This command line is slightly different in windows\n",
    "\n",
    "!aws s3 cp $filename s3://$bucket_to_upload_name/$filename"
   ]
  },
  {
   "cell_type": "code",
   "execution_count": 221,
   "id": "bafd4f26-ff35-42fe-8025-7be9654aa999",
   "metadata": {},
   "outputs": [
    {
     "name": "stdout",
     "output_type": "stream",
     "text": [
      "MovementDateTime object\n",
      "Destination object\n",
      "DestinationTidied object\n",
      "Speed float64\n",
      "AdditionalInfo object\n",
      "CallSign object\n",
      "Heading float64\n",
      "MMSI float64\n",
      "MovementID float64\n",
      "ShipName object\n",
      "ShipType object\n",
      "Beam float64\n",
      "Draught float64\n",
      "Length float64\n",
      "ETA object\n",
      "MoveStatus object\n",
      "ladenStatus object\n",
      "LRIMOShipNo float64\n",
      "Latitude float64\n",
      "Longitude float64\n",
      "BeamRatio float64\n"
     ]
    },
    {
     "name": "stderr",
     "output_type": "stream",
     "text": [
      "/tmp/ipykernel_7316/16896546.py:2: FutureWarning: iteritems is deprecated and will be removed in a future version. Use .items instead.\n",
      "  for name, dtype in df.dtypes.iteritems():\n"
     ]
    }
   ],
   "source": [
    "# Get the dataframe types for SQL integration later\n",
    "for name, dtype in df.dtypes.iteritems():\n",
    "    print(name, dtype)"
   ]
  }
 ],
 "metadata": {
  "kernelspec": {
   "display_name": "conda_python3",
   "language": "python",
   "name": "conda_python3"
  },
  "language_info": {
   "codemirror_mode": {
    "name": "ipython",
    "version": 3
   },
   "file_extension": ".py",
   "mimetype": "text/x-python",
   "name": "python",
   "nbconvert_exporter": "python",
   "pygments_lexer": "ipython3",
   "version": "3.10.16"
  }
 },
 "nbformat": 4,
 "nbformat_minor": 5
}
